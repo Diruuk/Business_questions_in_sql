{
 "cells": [
  {
   "cell_type": "markdown",
   "metadata": {},
   "source": [
    "# Answering Business Questions Using SQL\n",
    "***\n",
    "## Introduction\n",
    "\n",
    "The aim of this project is to explore a modified version of the [Chinook](https://github.com/lerocha/chinook-database) database using SQL and answer some business questions. The Chinook database represents a fictional digital media shop, based on real data from an iTunes Library and manually generated data. The database is provided as a SQLite database file called `chinook.db`.\n",
    "\n",
    "<i>Scenario</i>\n",
    "<p>The Chinook record store has just signed a deal with a new record label, and you've been tasked with selecting the first three albums that will be added to the store, from a list of four. All four albums are by artists that don't have any tracks in the store right now.</p>\n",
    "\n",
    "<p>The record label specializes in artists from the USA, and they have given Chinook some money to advertise the new albums in the USA, so we're interested in finding out which genres sell the best in the USA.</p>\n",
    "\n",
    "<p>We have been tasked with:</p>\n",
    "\n",
    "* Determine which Album/Tracks Should be Purchased\n",
    "* Find the Best Performing Sales Agent\n",
    "* Analyze the Sales Data for Customers from Each Country\n",
    "* Determine if the Store Should Purchase Whole Albums or Individual Tracks\n",
    "* Which Artist is Used in the Most Playlists?\n",
    "* How Many Tracks Have Been Purchased vs Not Purchased?\n",
    "* Is the Range of Tracks in the Store Reflective of their Sales Popularity?\n",
    "* Do Protected vs Non-Protected Media Types Have an Effect on Popularity?\n",
    "\n",
    "Here's a schema diagram for the Chinook database:"
   ]
  },
  {
   "cell_type": "markdown",
   "metadata": {},
   "source": [
    "![Chinook schema diagram](https://s3.amazonaws.com/dq-content/189/chinook-schema.svg)"
   ]
  },
  {
   "cell_type": "markdown",
   "metadata": {},
   "source": [
    "## Connecting to the Database and Data Overview"
   ]
  },
  {
   "cell_type": "code",
   "execution_count": 2,
   "metadata": {},
   "outputs": [
    {
     "data": {
      "text/plain": [
       "'Connected: None@chinook.db'"
      ]
     },
     "execution_count": 2,
     "metadata": {},
     "output_type": "execute_result"
    }
   ],
   "source": [
    "%%capture\n",
    "%load_ext sql\n",
    "%sql sqlite:///chinook.db"
   ]
  },
  {
   "cell_type": "code",
   "execution_count": 3,
   "metadata": {},
   "outputs": [
    {
     "name": "stdout",
     "output_type": "stream",
     "text": [
      "Done.\n"
     ]
    },
    {
     "data": {
      "text/html": [
       "<table>\n",
       "    <tr>\n",
       "        <th>name</th>\n",
       "        <th>type</th>\n",
       "    </tr>\n",
       "    <tr>\n",
       "        <td>album</td>\n",
       "        <td>table</td>\n",
       "    </tr>\n",
       "    <tr>\n",
       "        <td>artist</td>\n",
       "        <td>table</td>\n",
       "    </tr>\n",
       "    <tr>\n",
       "        <td>customer</td>\n",
       "        <td>table</td>\n",
       "    </tr>\n",
       "    <tr>\n",
       "        <td>employee</td>\n",
       "        <td>table</td>\n",
       "    </tr>\n",
       "    <tr>\n",
       "        <td>genre</td>\n",
       "        <td>table</td>\n",
       "    </tr>\n",
       "    <tr>\n",
       "        <td>invoice</td>\n",
       "        <td>table</td>\n",
       "    </tr>\n",
       "    <tr>\n",
       "        <td>invoice_line</td>\n",
       "        <td>table</td>\n",
       "    </tr>\n",
       "    <tr>\n",
       "        <td>media_type</td>\n",
       "        <td>table</td>\n",
       "    </tr>\n",
       "    <tr>\n",
       "        <td>playlist</td>\n",
       "        <td>table</td>\n",
       "    </tr>\n",
       "    <tr>\n",
       "        <td>playlist_track</td>\n",
       "        <td>table</td>\n",
       "    </tr>\n",
       "    <tr>\n",
       "        <td>track</td>\n",
       "        <td>table</td>\n",
       "    </tr>\n",
       "</table>"
      ],
      "text/plain": [
       "[('album', 'table'),\n",
       " ('artist', 'table'),\n",
       " ('customer', 'table'),\n",
       " ('employee', 'table'),\n",
       " ('genre', 'table'),\n",
       " ('invoice', 'table'),\n",
       " ('invoice_line', 'table'),\n",
       " ('media_type', 'table'),\n",
       " ('playlist', 'table'),\n",
       " ('playlist_track', 'table'),\n",
       " ('track', 'table')]"
      ]
     },
     "execution_count": 3,
     "metadata": {},
     "output_type": "execute_result"
    }
   ],
   "source": [
    "%%sql\n",
    "SELECT\n",
    "    name,\n",
    "    type\n",
    "FROM sqlite_master\n",
    "WHERE type IN (\"table\",\"view\");"
   ]
  },
  {
   "cell_type": "markdown",
   "metadata": {},
   "source": [
    "The database consists of 11 tables containing information about artists, albums, media tracks, playlists, invoices, customers, and shop employees.\n",
    "## Selecting Albums to Purchase\n",
    "We'll start by selecting the first three albums (from a list of four) of a new record label that will be added to the store. All 4 albums are by artists that currently don't have any tracks in the store. The available data is represented by the artist names, and the genre of music they produce:\n",
    "\n",
    "| Artist Name          | Genre   |\n",
    "| -------------------- | ------- |\n",
    "| Regal                | Hip-Hop |\n",
    "| Red Tone             | Punk    |\n",
    "| Meteor and the Girls | Pop     |\n",
    "| Slim Jim Bites       | Blues   |\n",
    "\n",
    "The record label specializes in artists from the USA, so the new albums will be advertised in the USA. Hence we're interested in finding out which genres sell there the best (the most tracks).\n",
    "\n",
    "For this purpose, we'll write a query that returns TOP10 genres with the number and \\% of tracks sold in the USA, and put them in descending order. The necessary information can be obtained from the `genre`, `track`, `invoice`, and `invoice_line` tables. Then, we'll display the output of this query graphically, using Python's pandas and matplotlib libraries."
   ]
  },
  {
   "cell_type": "code",
   "execution_count": 5,
   "metadata": {},
   "outputs": [
    {
     "name": "stdout",
     "output_type": "stream",
     "text": [
      "Done.\n"
     ]
    },
    {
     "data": {
      "text/html": [
       "<table>\n",
       "    <tr>\n",
       "        <th>genre</th>\n",
       "        <th>tracks_sold</th>\n",
       "        <th>percentage_sold</th>\n",
       "    </tr>\n",
       "    <tr>\n",
       "        <td>Rock</td>\n",
       "        <td>561</td>\n",
       "        <td>0.5337773549000951</td>\n",
       "    </tr>\n",
       "    <tr>\n",
       "        <td>Alternative &amp; Punk</td>\n",
       "        <td>130</td>\n",
       "        <td>0.12369172216936251</td>\n",
       "    </tr>\n",
       "    <tr>\n",
       "        <td>Metal</td>\n",
       "        <td>124</td>\n",
       "        <td>0.11798287345385347</td>\n",
       "    </tr>\n",
       "    <tr>\n",
       "        <td>R&amp;B/Soul</td>\n",
       "        <td>53</td>\n",
       "        <td>0.05042816365366318</td>\n",
       "    </tr>\n",
       "    <tr>\n",
       "        <td>Blues</td>\n",
       "        <td>36</td>\n",
       "        <td>0.03425309229305423</td>\n",
       "    </tr>\n",
       "    <tr>\n",
       "        <td>Alternative</td>\n",
       "        <td>35</td>\n",
       "        <td>0.03330161750713606</td>\n",
       "    </tr>\n",
       "    <tr>\n",
       "        <td>Latin</td>\n",
       "        <td>22</td>\n",
       "        <td>0.02093244529019981</td>\n",
       "    </tr>\n",
       "    <tr>\n",
       "        <td>Pop</td>\n",
       "        <td>22</td>\n",
       "        <td>0.02093244529019981</td>\n",
       "    </tr>\n",
       "    <tr>\n",
       "        <td>Hip Hop/Rap</td>\n",
       "        <td>20</td>\n",
       "        <td>0.019029495718363463</td>\n",
       "    </tr>\n",
       "    <tr>\n",
       "        <td>Jazz</td>\n",
       "        <td>14</td>\n",
       "        <td>0.013320647002854425</td>\n",
       "    </tr>\n",
       "</table>"
      ],
      "text/plain": [
       "[('Rock', 561, 0.5337773549000951),\n",
       " ('Alternative & Punk', 130, 0.12369172216936251),\n",
       " ('Metal', 124, 0.11798287345385347),\n",
       " ('R&B/Soul', 53, 0.05042816365366318),\n",
       " ('Blues', 36, 0.03425309229305423),\n",
       " ('Alternative', 35, 0.03330161750713606),\n",
       " ('Latin', 22, 0.02093244529019981),\n",
       " ('Pop', 22, 0.02093244529019981),\n",
       " ('Hip Hop/Rap', 20, 0.019029495718363463),\n",
       " ('Jazz', 14, 0.013320647002854425)]"
      ]
     },
     "execution_count": 5,
     "metadata": {},
     "output_type": "execute_result"
    }
   ],
   "source": [
    "%%sql\n",
    "\n",
    "WITH usa_tracks_sold AS\n",
    "   (\n",
    "    SELECT il.* FROM invoice_line il\n",
    "    INNER JOIN invoice i on il.invoice_id = i.invoice_id\n",
    "    INNER JOIN customer c on i.customer_id = c.customer_id\n",
    "    WHERE c.country = \"USA\"\n",
    "   )\n",
    "\n",
    "SELECT\n",
    "    g.name genre,\n",
    "    count(uts.invoice_line_id) tracks_sold,\n",
    "    cast(count(uts.invoice_line_id) AS FLOAT) / (\n",
    "        SELECT COUNT(*) from usa_tracks_sold\n",
    "    ) percentage_sold\n",
    "FROM usa_tracks_sold uts\n",
    "INNER JOIN track t on t.track_id = uts.track_id\n",
    "INNER JOIN genre g on g.genre_id = t.genre_id\n",
    "GROUP BY 1\n",
    "ORDER BY 2 DESC\n",
    "LIMIT 10;"
   ]
  },
  {
   "cell_type": "code",
   "execution_count": 8,
   "metadata": {},
   "outputs": [
    {
     "data": {
      "text/html": [
       "<div>\n",
       "<style scoped>\n",
       "    .dataframe tbody tr th:only-of-type {\n",
       "        vertical-align: middle;\n",
       "    }\n",
       "\n",
       "    .dataframe tbody tr th {\n",
       "        vertical-align: top;\n",
       "    }\n",
       "\n",
       "    .dataframe thead th {\n",
       "        text-align: right;\n",
       "    }\n",
       "</style>\n",
       "<table border=\"1\" class=\"dataframe\">\n",
       "  <thead>\n",
       "    <tr style=\"text-align: right;\">\n",
       "      <th></th>\n",
       "      <th>genre</th>\n",
       "      <th>num_tracks</th>\n",
       "      <th>pct</th>\n",
       "    </tr>\n",
       "  </thead>\n",
       "  <tbody>\n",
       "    <tr>\n",
       "      <th>0</th>\n",
       "      <td>Rock</td>\n",
       "      <td>561</td>\n",
       "      <td>53.0</td>\n",
       "    </tr>\n",
       "    <tr>\n",
       "      <th>1</th>\n",
       "      <td>Alternative &amp; Punk</td>\n",
       "      <td>130</td>\n",
       "      <td>12.0</td>\n",
       "    </tr>\n",
       "    <tr>\n",
       "      <th>2</th>\n",
       "      <td>Metal</td>\n",
       "      <td>124</td>\n",
       "      <td>12.0</td>\n",
       "    </tr>\n",
       "    <tr>\n",
       "      <th>3</th>\n",
       "      <td>R&amp;B/Soul</td>\n",
       "      <td>53</td>\n",
       "      <td>5.0</td>\n",
       "    </tr>\n",
       "    <tr>\n",
       "      <th>4</th>\n",
       "      <td>Blues</td>\n",
       "      <td>36</td>\n",
       "      <td>3.0</td>\n",
       "    </tr>\n",
       "    <tr>\n",
       "      <th>5</th>\n",
       "      <td>Alternative</td>\n",
       "      <td>35</td>\n",
       "      <td>3.0</td>\n",
       "    </tr>\n",
       "    <tr>\n",
       "      <th>6</th>\n",
       "      <td>Latin</td>\n",
       "      <td>22</td>\n",
       "      <td>2.0</td>\n",
       "    </tr>\n",
       "    <tr>\n",
       "      <th>7</th>\n",
       "      <td>Pop</td>\n",
       "      <td>22</td>\n",
       "      <td>2.0</td>\n",
       "    </tr>\n",
       "    <tr>\n",
       "      <th>8</th>\n",
       "      <td>Hip Hop/Rap</td>\n",
       "      <td>20</td>\n",
       "      <td>2.0</td>\n",
       "    </tr>\n",
       "    <tr>\n",
       "      <th>9</th>\n",
       "      <td>Jazz</td>\n",
       "      <td>14</td>\n",
       "      <td>1.0</td>\n",
       "    </tr>\n",
       "  </tbody>\n",
       "</table>\n",
       "</div>"
      ],
      "text/plain": [
       "                genre  num_tracks   pct\n",
       "0                Rock         561  53.0\n",
       "1  Alternative & Punk         130  12.0\n",
       "2               Metal         124  12.0\n",
       "3            R&B/Soul          53   5.0\n",
       "4               Blues          36   3.0\n",
       "5         Alternative          35   3.0\n",
       "6               Latin          22   2.0\n",
       "7                 Pop          22   2.0\n",
       "8         Hip Hop/Rap          20   2.0\n",
       "9                Jazz          14   1.0"
      ]
     },
     "execution_count": 8,
     "metadata": {},
     "output_type": "execute_result"
    }
   ],
   "source": [
    "import pandas as pd\n",
    "import numpy as np\n",
    "import sqlite3\n",
    "import matplotlib as mpl\n",
    "import matplotlib.pyplot as plt\n",
    "%matplotlib inline\n",
    "\n",
    "query = \"\"\" \n",
    "WITH total_count AS (SELECT COUNT(t.track_id) total_count\n",
    "                       FROM invoice i\n",
    "                            INNER JOIN invoice_line il \n",
    "                            ON il.invoice_id = i.invoice_id\n",
    "                            \n",
    "                            LEFT JOIN track t \n",
    "                            ON il.track_id = t.track_id \n",
    "    \n",
    "                            INNER JOIN genre g \n",
    "                            ON t.genre_id = g.genre_id \n",
    "                      WHERE i.billing_country = \"USA\")\n",
    "                      \n",
    "SELECT g.name genre,\n",
    "       COUNT(t.track_id) num_tracks,\n",
    "       ROUND(COUNT(t.track_id) * 100.00/(SELECT total_count \n",
    "                                           FROM total_count), 0) pct\n",
    "  FROM invoice i\n",
    "       INNER JOIN invoice_line il \n",
    "       ON il.invoice_id = i.invoice_id\n",
    "        \n",
    "       LEFT JOIN track t \n",
    "       ON il.track_id = t.track_id \n",
    "        \n",
    "       INNER JOIN genre g \n",
    "       ON t.genre_id = g.genre_id         \n",
    " WHERE i.billing_country = \"USA\"\n",
    " GROUP BY 1\n",
    " ORDER BY 2 DESC\n",
    " LIMIT 10;\n",
    "\"\"\"\n",
    "\n",
    "# Reading SQL results into a pandas DataFrame\n",
    "conn = sqlite3.connect(\"chinook.db\")\n",
    "df = pd.read_sql_query(query, conn) \n",
    "df"
   ]
  },
  {
   "cell_type": "code",
   "execution_count": 9,
   "metadata": {},
   "outputs": [
    {
     "data": {
      "image/png": "[encoded data removed]",
      "text/plain": [
       "<matplotlib.figure.Figure at 0x7f995e04a828>"
      ]
     },
     "metadata": {},
     "output_type": "display_data"
    }
   ],
   "source": [
    "# Resetting the index\n",
    "df = df.set_index(\"genre\", drop=True) \n",
    "\n",
    "# Plotting sold tracks by genre in %\n",
    "fig, ax = plt.subplots(figsize=(15,11))\n",
    "df[\"pct\"].sort_values().plot.barh(color=\"slateblue\",\n",
    "                                  xlim=(0, 60),\n",
    "                                  rot=0)\n",
    "ax.set_title(\"Sold Tracks by Genre (in %)\", fontsize=55)\n",
    "ax.set_ylabel(None)\n",
    "ax.set_xlabel(\"%\", fontsize=40)\n",
    "ax.tick_params(axis=\"both\", \n",
    "               labelsize=35, \n",
    "               left = False)\n",
    "ax.spines[\"top\"].set_visible(False)\n",
    "ax.spines[\"right\"].set_visible(False)\n",
    "ax.spines[\"left\"].set_visible(False)"
   ]
  },
  {
   "cell_type": "markdown",
   "metadata": {},
   "source": [
    "The _most popular genres in the USA_ are **Rock**, **Alternative & Punk**, and **Metal**, followed with a big gap by all the others. Since our choice is limited by Hip-Hop, Punk, Pop, and Blues genres, and since we have to choose 3 out of 4 albums, we can say that only one of the albums to be advertised is related to these popular genres (**Punk**). Then, we should select the album of **Blues** genre (on the 5th place by popularity) and the one of **Pop** (on the 7th place):\n",
    "\n",
    "| Artist Name          | Genre   |\n",
    "| -------------------- | ------- |\n",
    "| Red Tone             | Punk    |\n",
    "| Slim Jim Bites       | Blues   |\n",
    "| Meteor and the Girls | Pop     |\n",
    "\n",
    "## Analyzing Employee Sales Performance\n",
    "Each customer in the Chinook store, when they first make a purchase, gets assigned to a sales support agent within the company. We're going to analyze the purchases of customers belonging to each sales support agent, in order to compare their sales performance.\n",
    "\n",
    "Let's find the total dollar amounts of sales assigned to each sales support agent, together with their country, birthdate, hire date, and number and % of customers. The tables to be used here are `employee`, `customer`, and `invoice`. Again, we'll represent this information also in graphical form, using a grouped bar chart. Since we're going to use this kind of charts further in the project, we'll create a function for it."
   ]
  },
  {
   "cell_type": "code",
   "execution_count": 27,
   "metadata": {},
   "outputs": [
    {
     "name": "stdout",
     "output_type": "stream",
     "text": [
      "Done.\n"
     ]
    },
    {
     "data": {
      "text/html": [
       "<table>\n",
       "    <tr>\n",
       "        <th>employee</th>\n",
       "        <th>country</th>\n",
       "        <th>birthdate</th>\n",
       "        <th>hire_date</th>\n",
       "        <th>customers</th>\n",
       "        <th>pct_customers</th>\n",
       "        <th>total_sales</th>\n",
       "        <th>pct_sales</th>\n",
       "    </tr>\n",
       "    <tr>\n",
       "        <td>Jane Peacock</td>\n",
       "        <td>Canada</td>\n",
       "        <td>1973-08-29 00:00:00</td>\n",
       "        <td>2017-04-01 00:00:00</td>\n",
       "        <td>212</td>\n",
       "        <td>35.0</td>\n",
       "        <td>1732.0</td>\n",
       "        <td>37.0</td>\n",
       "    </tr>\n",
       "    <tr>\n",
       "        <td>Margaret Park</td>\n",
       "        <td>Canada</td>\n",
       "        <td>1947-09-19 00:00:00</td>\n",
       "        <td>2017-05-03 00:00:00</td>\n",
       "        <td>214</td>\n",
       "        <td>35.0</td>\n",
       "        <td>1584.0</td>\n",
       "        <td>34.0</td>\n",
       "    </tr>\n",
       "    <tr>\n",
       "        <td>Steve Johnson</td>\n",
       "        <td>Canada</td>\n",
       "        <td>1965-03-03 00:00:00</td>\n",
       "        <td>2017-10-17 00:00:00</td>\n",
       "        <td>188</td>\n",
       "        <td>31.0</td>\n",
       "        <td>1394.0</td>\n",
       "        <td>30.0</td>\n",
       "    </tr>\n",
       "</table>"
      ],
      "text/plain": [
       "[('Jane Peacock', 'Canada', '1973-08-29 00:00:00', '2017-04-01 00:00:00', 212, 35.0, 1732.0, 37.0),\n",
       " ('Margaret Park', 'Canada', '1947-09-19 00:00:00', '2017-05-03 00:00:00', 214, 35.0, 1584.0, 34.0),\n",
       " ('Steve Johnson', 'Canada', '1965-03-03 00:00:00', '2017-10-17 00:00:00', 188, 31.0, 1394.0, 30.0)]"
      ]
     },
     "execution_count": 27,
     "metadata": {},
     "output_type": "execute_result"
    }
   ],
   "source": [
    "%%sql\n",
    "WITH summary_agents AS (SELECT e.first_name || \" \" || e.last_name employee,\n",
    "                               e.country,\n",
    "                               e.birthdate,\n",
    "                               e.hire_date,\n",
    "                               COUNT(c.customer_id) customers,\n",
    "                               ROUND(SUM(i.total), 0) total_sales\n",
    "                          FROM employee e\n",
    "                               LEFT JOIN customer c \n",
    "                               ON e.employee_id = c.support_rep_id\n",
    "        \n",
    "                               INNER JOIN invoice i \n",
    "                               ON c.customer_id = i.customer_id                               \n",
    "                         WHERE e.title = \"Sales Support Agent\"    \n",
    "                         GROUP BY 1\n",
    "                         ORDER BY 6 DESC)\n",
    "                         \n",
    "SELECT employee,\n",
    "       country, \n",
    "       birthdate,\n",
    "       hire_date,\n",
    "       customers,\n",
    "       ROUND(customers * 100.0/(SELECT SUM(customers) \n",
    "                                      FROM summary_agents), 0) pct_customers,\n",
    "       total_sales,\n",
    "       ROUND(total_sales * 100.0/(SELECT SUM(total_sales) \n",
    "                             FROM summary_agents), 0) pct_sales\n",
    "  FROM summary_agents;"
   ]
  },
  {
   "cell_type": "markdown",
   "metadata": {},
   "source": [
    "There are 3 sales support agents among the employees, they are all from Canada and were employed in 2017 (April, May and October). The youngest of them is Jane Peacock, the oldest - Margaret Park.\n",
    "\n",
    "On one hand, we see a direct correlation between the hire date of a sales support agent and the total amount of sales. However, we also see that the first 2 employees have only 1 month difference in their hire date; moreover, Margaret Park, being hired later, had 2 more customers. Despite that, they have 3% difference in their total amounts of sales, whereas Steve Johnson, being hired more than 6 months after Jane Peacock, has only 7% less sales than him, and 4% less customers.\n",
    "\n",
    "Given that, Jane Peacock demonstrates the best sales performance, while Margaret Park - the worst.\n",
    "## Analyzing Sales by Country\n",
    "Let's now collate data on purchases for customers from different countries, including total number and \\% of customers, total value and \\% of sales, average value of sales per customer, average order value. Because in our database there are some countries with only one customer, we'll collect those countries into an \"Other\" group. The results will be sorted by the total sales in descending order, with the \"Other\" group at the bottom of the table, and then displayed as a grouped bar chart. All the data necessary for this analysis is contained in the tables `customer` and `invoice`."
   ]
  },
  {
   "cell_type": "code",
   "execution_count": 28,
   "metadata": {},
   "outputs": [
    {
     "name": "stdout",
     "output_type": "stream",
     "text": [
      "Done.\n"
     ]
    },
    {
     "data": {
      "text/html": [
       "<table>\n",
       "    <tr>\n",
       "        <th>country</th>\n",
       "        <th>customers</th>\n",
       "        <th>pct_customers</th>\n",
       "        <th>total_sales</th>\n",
       "        <th>pct_sales</th>\n",
       "        <th>sales_per_customer</th>\n",
       "        <th>avg_order</th>\n",
       "    </tr>\n",
       "    <tr>\n",
       "        <td>USA</td>\n",
       "        <td>13</td>\n",
       "        <td>22.0</td>\n",
       "        <td>1038.0</td>\n",
       "        <td>22.0</td>\n",
       "        <td>10.1</td>\n",
       "        <td>80.0</td>\n",
       "    </tr>\n",
       "    <tr>\n",
       "        <td>Canada</td>\n",
       "        <td>8</td>\n",
       "        <td>14.0</td>\n",
       "        <td>535.0</td>\n",
       "        <td>11.0</td>\n",
       "        <td>9.5</td>\n",
       "        <td>67.0</td>\n",
       "    </tr>\n",
       "    <tr>\n",
       "        <td>Brazil</td>\n",
       "        <td>5</td>\n",
       "        <td>8.0</td>\n",
       "        <td>427.0</td>\n",
       "        <td>9.0</td>\n",
       "        <td>12.2</td>\n",
       "        <td>85.0</td>\n",
       "    </tr>\n",
       "    <tr>\n",
       "        <td>France</td>\n",
       "        <td>5</td>\n",
       "        <td>8.0</td>\n",
       "        <td>388.0</td>\n",
       "        <td>8.0</td>\n",
       "        <td>10.0</td>\n",
       "        <td>78.0</td>\n",
       "    </tr>\n",
       "    <tr>\n",
       "        <td>Germany</td>\n",
       "        <td>4</td>\n",
       "        <td>7.0</td>\n",
       "        <td>334.0</td>\n",
       "        <td>7.0</td>\n",
       "        <td>10.3</td>\n",
       "        <td>84.0</td>\n",
       "    </tr>\n",
       "    <tr>\n",
       "        <td>Czech Republic</td>\n",
       "        <td>2</td>\n",
       "        <td>3.0</td>\n",
       "        <td>274.0</td>\n",
       "        <td>6.0</td>\n",
       "        <td>15.0</td>\n",
       "        <td>137.0</td>\n",
       "    </tr>\n",
       "    <tr>\n",
       "        <td>United Kingdom</td>\n",
       "        <td>3</td>\n",
       "        <td>5.0</td>\n",
       "        <td>245.0</td>\n",
       "        <td>5.0</td>\n",
       "        <td>9.3</td>\n",
       "        <td>82.0</td>\n",
       "    </tr>\n",
       "    <tr>\n",
       "        <td>Portugal</td>\n",
       "        <td>2</td>\n",
       "        <td>3.0</td>\n",
       "        <td>185.0</td>\n",
       "        <td>4.0</td>\n",
       "        <td>14.5</td>\n",
       "        <td>93.0</td>\n",
       "    </tr>\n",
       "    <tr>\n",
       "        <td>India</td>\n",
       "        <td>2</td>\n",
       "        <td>3.0</td>\n",
       "        <td>183.0</td>\n",
       "        <td>4.0</td>\n",
       "        <td>10.5</td>\n",
       "        <td>92.0</td>\n",
       "    </tr>\n",
       "    <tr>\n",
       "        <td>Other</td>\n",
       "        <td>15</td>\n",
       "        <td>25.0</td>\n",
       "        <td>1093.0</td>\n",
       "        <td>23.0</td>\n",
       "        <td>10.0</td>\n",
       "        <td>73.0</td>\n",
       "    </tr>\n",
       "</table>"
      ],
      "text/plain": [
       "[('USA', 13, 22.0, 1038.0, 22.0, 10.1, 80.0),\n",
       " ('Canada', 8, 14.0, 535.0, 11.0, 9.5, 67.0),\n",
       " ('Brazil', 5, 8.0, 427.0, 9.0, 12.2, 85.0),\n",
       " ('France', 5, 8.0, 388.0, 8.0, 10.0, 78.0),\n",
       " ('Germany', 4, 7.0, 334.0, 7.0, 10.3, 84.0),\n",
       " ('Czech Republic', 2, 3.0, 274.0, 6.0, 15.0, 137.0),\n",
       " ('United Kingdom', 3, 5.0, 245.0, 5.0, 9.3, 82.0),\n",
       " ('Portugal', 2, 3.0, 185.0, 4.0, 14.5, 93.0),\n",
       " ('India', 2, 3.0, 183.0, 4.0, 10.5, 92.0),\n",
       " ('Other', 15, 25.0, 1093.0, 23.0, 10.0, 73.0)]"
      ]
     },
     "execution_count": 28,
     "metadata": {},
     "output_type": "execute_result"
    }
   ],
   "source": [
    "%%sql\n",
    "WITH sales_per_customer AS   (SELECT c.country, \n",
    "                                     c.customer_id,\n",
    "                                     ROUND(SUM(i.total), 0) total,\n",
    "                                     COUNT(i.invoice_id) num_sales\n",
    "                                FROM customer c\n",
    "                                     INNER JOIN invoice i \n",
    "                                     ON i.customer_id=c.customer_id\n",
    "                               GROUP BY 1, 2),\n",
    "\n",
    "     all_countries AS        (SELECT c.country,\n",
    "                                     COUNT(c.customer_id) customers,\n",
    "                                     ROUND(SUM(spc.total), 0) total_sales,\n",
    "                                     ROUND(AVG(spc.num_sales), 1) sales_per_customer,\n",
    "                                     ROUND(AVG(spc.total), 0) avg_order\n",
    "                                FROM customer c\n",
    "                                     INNER JOIN sales_per_customer spc \n",
    "                                     ON spc.customer_id = c.customer_id\n",
    "                               GROUP BY 1),  \n",
    "    \n",
    "     only_1_customer AS      (SELECT COUNT(country) country,\n",
    "                                     COUNT(customers) customers,\n",
    "                                     SUM(total_sales) total_sales,\n",
    "                                     ROUND(AVG(sales_per_customer), 0) sales_per_customer, \n",
    "                                     ROUND(AVG(avg_order), 0) avg_order\n",
    "                                FROM all_countries\n",
    "                               WHERE customers=1),  \n",
    "        \n",
    "    other_countries AS       (SELECT CASE \n",
    "                                     WHEN country = (SELECT country \n",
    "                                                       FROM only_1_customer)       \n",
    "                                                       THEN \"Other\"\n",
    "                                     END AS country, \n",
    "                                     customers,\n",
    "                                     total_sales, \n",
    "                                     sales_per_customer, \n",
    "                                     avg_order\n",
    "                                FROM only_1_customer),\n",
    "    \n",
    "     more_than_1_customer AS (SELECT * \n",
    "                                FROM all_countries \n",
    "                               WHERE customers > 1\n",
    "                               ORDER BY 1),\n",
    "        \n",
    "     united_unsorted AS      (SELECT * FROM other_countries\n",
    "                               UNION \n",
    "                              SELECT * FROM more_than_1_customer)   \n",
    "                              \n",
    "SELECT country,\n",
    "       customers,\n",
    "       ROUND(customers * 100.0/(SELECT SUM(customers) \n",
    "                                      FROM united_unsorted), 0) pct_customers,\n",
    "       total_sales,\n",
    "       ROUND(total_sales * 100.0/(SELECT SUM(total_sales) \n",
    "                                      FROM united_unsorted), 0) pct_sales,       \n",
    "       sales_per_customer,\n",
    "       avg_order\n",
    "  FROM (SELECT united_unsorted.*,\n",
    "               CASE\n",
    "               WHEN united_unsorted.country = \"Other\" THEN 1\n",
    "               ELSE 0\n",
    "               END AS sort\n",
    "          FROM united_unsorted)\n",
    " ORDER BY sort ASC, 4 DESC;"
   ]
  },
  {
   "cell_type": "markdown",
   "metadata": {},
   "source": [
    "The sales by country are evidently dominated by the **USA**, in terms of both the total sales and the number of customers (if not to count the \"Other\" group). Besides, we can notice a strong positive correlation between the number of customers and the total sales. Interesting that Czech Republic, having only 2 customers, shows the highest average value of sales per customer and, consequently, the highest average order value. \n",
    "## Albums vs. Individual Tracks\n",
    "In the Chinook store, customers can make purchases in one of the two ways:\n",
    "- purchase a whole album,\n",
    "- purchase a collection of one or more individual tracks.\n",
    "\n",
    "The store doesn't let customers purchase a whole album, and then add individual tracks to that same purchase (unless they do that by choosing each track manually). When customers purchase albums they are charged the same price as if they had purchased each of those tracks separately.\n",
    "\n",
    "Management are currently considering changing their purchasing strategy so that to purchase only the most popular tracks from each album from record companies, instead of purchasing every track from an album. Our task is to find out what percentage of purchases are individual tracks vs. whole albums. This data will further be used to understand the effect this new strategy might have on overall revenue.\n",
    "\n",
    "Here we have two edge cases to consider:\n",
    "\n",
    "- Albums that have only one or two tracks are likely to be purchased by customers as part of a collection of individual tracks.\n",
    "- Customers may decide to manually select every track from an album, and then add a few individual tracks from other albums to their purchase.\n",
    "\n",
    "In the first case, since our analysis is concerned with maximizing revenue we can safely ignore albums consisting of only a few tracks. The company has previously done analysis to confirm that the second case doesn't happen often, so we can ignore this case also.\n",
    "\n",
    "In order to answer our question, we're going to identify whether each invoice has all the tracks from an album. We can do this by getting the list of tracks from an invoice and comparing it to the list of tracks from an album. We can find the album to compare the purchase to by looking up the album that one of the purchased tracks belongs to. It doesn't matter which track we pick, since if it's an album purchase, that album will be the same for all tracks, as long as we decided to ignore the second edge case.\n",
    "\n",
    "In this way, we'll categorize each invoice as a purchase of either a whole album or individual tracks, and calculate the summary statistics for both groups (number and \\% of invoices). For this purpose, we'll use the following tables: `invoice_line`, `track`, and `album`. Next, we'll represent the results graphically."
   ]
  },
  {
   "cell_type": "code",
   "execution_count": 6,
   "metadata": {},
   "outputs": [
    {
     "name": "stdout",
     "output_type": "stream",
     "text": [
      "Done.\n"
     ]
    },
    {
     "data": {
      "text/html": [
       "<table>\n",
       "    <tr>\n",
       "        <th>album_purchase</th>\n",
       "        <th>number_of_invoices</th>\n",
       "        <th>percent</th>\n",
       "    </tr>\n",
       "    <tr>\n",
       "        <td>no</td>\n",
       "        <td>500</td>\n",
       "        <td>0.8143322475570033</td>\n",
       "    </tr>\n",
       "    <tr>\n",
       "        <td>yes</td>\n",
       "        <td>114</td>\n",
       "        <td>0.18566775244299674</td>\n",
       "    </tr>\n",
       "</table>"
      ],
      "text/plain": [
       "[('no', 500, 0.8143322475570033), ('yes', 114, 0.18566775244299674)]"
      ]
     },
     "execution_count": 6,
     "metadata": {},
     "output_type": "execute_result"
    }
   ],
   "source": [
    "%%sql\n",
    "\n",
    "WITH invoice_first_track AS\n",
    "    (\n",
    "     SELECT\n",
    "         il.invoice_id invoice_id,\n",
    "         MIN(il.track_id) first_track_id\n",
    "     FROM invoice_line il\n",
    "     GROUP BY 1\n",
    "    )\n",
    "\n",
    "SELECT\n",
    "    album_purchase,\n",
    "    COUNT(invoice_id) number_of_invoices,\n",
    "    CAST(count(invoice_id) AS FLOAT) / (\n",
    "                                         SELECT COUNT(*) FROM invoice\n",
    "                                      ) percent\n",
    "FROM\n",
    "    (\n",
    "    SELECT\n",
    "        ifs.*,\n",
    "        CASE\n",
    "            WHEN\n",
    "                 (\n",
    "                  SELECT t.track_id FROM track t\n",
    "                  WHERE t.album_id = (\n",
    "                                      SELECT t2.album_id FROM track t2\n",
    "                                      WHERE t2.track_id = ifs.first_track_id\n",
    "                                     ) \n",
    "\n",
    "                  EXCEPT \n",
    "\n",
    "                  SELECT il2.track_id FROM invoice_line il2\n",
    "                  WHERE il2.invoice_id = ifs.invoice_id\n",
    "                 ) IS NULL\n",
    "             AND\n",
    "                 (\n",
    "                  SELECT il2.track_id FROM invoice_line il2\n",
    "                  WHERE il2.invoice_id = ifs.invoice_id\n",
    "\n",
    "                  EXCEPT \n",
    "\n",
    "                  SELECT t.track_id FROM track t\n",
    "                  WHERE t.album_id = (\n",
    "                                      SELECT t2.album_id FROM track t2\n",
    "                                      WHERE t2.track_id = ifs.first_track_id\n",
    "                                     ) \n",
    "                 ) IS NULL\n",
    "             THEN \"yes\"\n",
    "             ELSE \"no\"\n",
    "         END AS \"album_purchase\"\n",
    "     FROM invoice_first_track ifs\n",
    "    )\n",
    "GROUP BY album_purchase;"
   ]
  },
  {
   "cell_type": "markdown",
   "metadata": {},
   "source": [
    "Hence, customers tend to buy **individual tracks** 4 times more often than the whole albums. This means that the new strategy in consideration (purchasing only the most popular tracks from each album from record companies instead of purchasing the whole albums) will definitely help to maximize the overall revenue.\n",
    "## The Most Popular Artists\n",
    "Next, we're going to find out which artists are used in the most playlists. This information can give us valuable insights on further purchasing strategies of the Chinook store. The tables to be used are `artist`, `album`, `track`, and `playlist_track`."
   ]
  },
  {
   "cell_type": "code",
   "execution_count": 29,
   "metadata": {},
   "outputs": [
    {
     "name": "stdout",
     "output_type": "stream",
     "text": [
      "Done.\n"
     ]
    },
    {
     "data": {
      "text/html": [
       "<table>\n",
       "    <tr>\n",
       "        <th>artist_name</th>\n",
       "        <th>num_playlists</th>\n",
       "    </tr>\n",
       "    <tr>\n",
       "        <td>Eugene Ormandy</td>\n",
       "        <td>7</td>\n",
       "    </tr>\n",
       "    <tr>\n",
       "        <td>Academy of St. Martin in the Fields &amp; Sir Neville Marriner</td>\n",
       "        <td>6</td>\n",
       "    </tr>\n",
       "    <tr>\n",
       "        <td>Berliner Philharmoniker &amp; Herbert Von Karajan</td>\n",
       "        <td>6</td>\n",
       "    </tr>\n",
       "    <tr>\n",
       "        <td>English Concert &amp; Trevor Pinnock</td>\n",
       "        <td>6</td>\n",
       "    </tr>\n",
       "    <tr>\n",
       "        <td>The King&#x27;s Singers</td>\n",
       "        <td>6</td>\n",
       "    </tr>\n",
       "</table>"
      ],
      "text/plain": [
       "[('Eugene Ormandy', 7),\n",
       " ('Academy of St. Martin in the Fields & Sir Neville Marriner', 6),\n",
       " ('Berliner Philharmoniker & Herbert Von Karajan', 6),\n",
       " ('English Concert & Trevor Pinnock', 6),\n",
       " (\"The King's Singers\", 6)]"
      ]
     },
     "execution_count": 29,
     "metadata": {},
     "output_type": "execute_result"
    }
   ],
   "source": [
    "%%sql\n",
    "SELECT ar.name artist_name,\n",
    "       COUNT(DISTINCT(pt.playlist_id)) num_playlists\n",
    "  FROM artist ar\n",
    "       INNER JOIN album al \n",
    "       ON al.artist_id = ar.artist_id   \n",
    "        \n",
    "       INNER JOIN track t \n",
    "       ON t.album_id = al.album_id\n",
    "    \n",
    "       INNER JOIN playlist_track pt \n",
    "       ON pt.track_id = t.track_id    \n",
    " GROUP BY 1\n",
    " ORDER BY 2 DESC\n",
    " LIMIT 5;"
   ]
  },
  {
   "cell_type": "markdown",
   "metadata": {},
   "source": [
    "We got a table of the TOP5 artists, with [Eugene Ormandy](https://en.wikipedia.org/wiki/Eugene_Ormandy) at the first place (present in 7 playlists), and followed by 4 other artists (present in 6 playlists). Let's have a look to which genres the tracks of these artists are related."
   ]
  },
  {
   "cell_type": "code",
   "execution_count": 30,
   "metadata": {},
   "outputs": [
    {
     "name": "stdout",
     "output_type": "stream",
     "text": [
      "Done.\n"
     ]
    },
    {
     "data": {
      "text/html": [
       "<table>\n",
       "    <tr>\n",
       "        <th>genre</th>\n",
       "    </tr>\n",
       "    <tr>\n",
       "        <td>Classical</td>\n",
       "    </tr>\n",
       "</table>"
      ],
      "text/plain": [
       "[('Classical',)]"
      ]
     },
     "execution_count": 30,
     "metadata": {},
     "output_type": "execute_result"
    }
   ],
   "source": [
    "%%sql\n",
    "SELECT DISTINCT(g.name) genre\n",
    "  FROM genre g\n",
    "       INNER JOIN track t \n",
    "       ON t.genre_id = g.genre_id   \n",
    "    \n",
    "       INNER JOIN album al \n",
    "       ON al.album_id = t.album_id\n",
    "    \n",
    "       INNER JOIN artist ar \n",
    "       ON ar.artist_id = al.artist_id    \n",
    " WHERE ar.name = \"Eugene Ormandy\" \n",
    "    OR ar.name = \"The King's Singers\"\n",
    "    OR ar.name = \"English Concert & Trevor Pinnock\"\n",
    "    OR ar.name = \"Berliner Philharmoniker & Herbert Von Karajan\" \n",
    "    OR ar.name = \"Academy of St. Martin in the Fields & Sir Neville Marriner\";"
   ]
  },
  {
   "cell_type": "markdown",
   "metadata": {},
   "source": [
    "From one of our previous queries (calculating the number and \\% of tracks of each genre sold in the USA), we remember that Classical genre, with all due respect, is far away from being the most sold one. Hence, in spite of these artists being present in the most playlists, a strategy for the Chinook store to buy more tracks of theirs _cannot be considered as potentially profitable_ and should be disregarded.\n",
    "## Purchased vs Not Purchased Tracks\n",
    "Let's now calculate how many unique tracks were sold."
   ]
  },
  {
   "cell_type": "code",
   "execution_count": 31,
   "metadata": {},
   "outputs": [
    {
     "name": "stdout",
     "output_type": "stream",
     "text": [
      "Done.\n"
     ]
    },
    {
     "data": {
      "text/html": [
       "<table>\n",
       "    <tr>\n",
       "        <th>all_tracks</th>\n",
       "        <th>sold_tracks</th>\n",
       "        <th>pct_sold</th>\n",
       "    </tr>\n",
       "    <tr>\n",
       "        <td>3503</td>\n",
       "        <td>1806</td>\n",
       "        <td>52.0</td>\n",
       "    </tr>\n",
       "</table>"
      ],
      "text/plain": [
       "[(3503, 1806, 52.0)]"
      ]
     },
     "execution_count": 31,
     "metadata": {},
     "output_type": "execute_result"
    }
   ],
   "source": [
    "%%sql\n",
    "WITH all_vs_sold AS (SELECT COUNT(DISTINCT(t.track_id)) all_tracks, \n",
    "                            COUNT(DISTINCT(il.track_id)) sold_tracks\n",
    "                       FROM track t\n",
    "                            LEFT JOIN invoice_line il \n",
    "                            ON il.track_id = t.track_id)\n",
    "\n",
    "SELECT all_vs_sold.*,\n",
    "       ROUND(sold_tracks * 100.0 / all_tracks, 0) pct_sold\n",
    "  FROM all_vs_sold;"
   ]
  },
  {
   "cell_type": "markdown",
   "metadata": {},
   "source": [
    "Almost half of all the unique tracks available in the Chinook store were never bought, probably being of unpopular genre or unpopular artists. Possible solutions here may include a new _advertising campaign_ (especialy in the USA, as the biggest segment of market), _sales promotion_, additional _training and motivation_ of the sales support agents.\n",
    "## Popularity of Protected vs Non-Protected Media Types\n",
    "If a track has a protected media type, it means that it has some associated rules for using its content. It can be encrypted using some form of digital rights management encryption. To play such a file, playback must occur inside the protected media path. In addition, the user might have to acquire rights to the content.\n",
    "\n",
    "Let's start by looking at the unique values of media types and whether there are any protected types among them."
   ]
  },
  {
   "cell_type": "code",
   "execution_count": 32,
   "metadata": {},
   "outputs": [
    {
     "name": "stdout",
     "output_type": "stream",
     "text": [
      "Done.\n"
     ]
    },
    {
     "data": {
      "text/html": [
       "<table>\n",
       "    <tr>\n",
       "        <th>media_type</th>\n",
       "    </tr>\n",
       "    <tr>\n",
       "        <td>MPEG audio file</td>\n",
       "    </tr>\n",
       "    <tr>\n",
       "        <td>Protected AAC audio file</td>\n",
       "    </tr>\n",
       "    <tr>\n",
       "        <td>Protected MPEG-4 video file</td>\n",
       "    </tr>\n",
       "    <tr>\n",
       "        <td>Purchased AAC audio file</td>\n",
       "    </tr>\n",
       "    <tr>\n",
       "        <td>AAC audio file</td>\n",
       "    </tr>\n",
       "</table>"
      ],
      "text/plain": [
       "[('MPEG audio file',),\n",
       " ('Protected AAC audio file',),\n",
       " ('Protected MPEG-4 video file',),\n",
       " ('Purchased AAC audio file',),\n",
       " ('AAC audio file',)]"
      ]
     },
     "execution_count": 32,
     "metadata": {},
     "output_type": "execute_result"
    }
   ],
   "source": [
    "%%sql\n",
    "SELECT DISTINCT(name) AS media_type\n",
    "  FROM media_type;"
   ]
  },
  {
   "cell_type": "markdown",
   "metadata": {},
   "source": [
    "Two of the five media types are protected. \n",
    "\n",
    "Now, we're going to calculate the summary statistics for all protected vs. non-protected media types, and create some charts for them."
   ]
  },
  {
   "cell_type": "code",
   "execution_count": 33,
   "metadata": {},
   "outputs": [
    {
     "name": "stdout",
     "output_type": "stream",
     "text": [
      "Done.\n"
     ]
    },
    {
     "data": {
      "text/html": [
       "<table>\n",
       "    <tr>\n",
       "        <th>media_type</th>\n",
       "        <th>unique_tracks</th>\n",
       "        <th>pct_unique</th>\n",
       "        <th>sold_unique</th>\n",
       "        <th>pct_sold_unique</th>\n",
       "        <th>sold</th>\n",
       "        <th>pct_sold</th>\n",
       "    </tr>\n",
       "    <tr>\n",
       "        <td>Non-protected</td>\n",
       "        <td>3052</td>\n",
       "        <td>87.0</td>\n",
       "        <td>1652</td>\n",
       "        <td>54.0</td>\n",
       "        <td>4315</td>\n",
       "        <td>91.0</td>\n",
       "    </tr>\n",
       "    <tr>\n",
       "        <td>Protected</td>\n",
       "        <td>451</td>\n",
       "        <td>13.0</td>\n",
       "        <td>154</td>\n",
       "        <td>34.0</td>\n",
       "        <td>442</td>\n",
       "        <td>9.0</td>\n",
       "    </tr>\n",
       "</table>"
      ],
      "text/plain": [
       "[('Non-protected', 3052, 87.0, 1652, 54.0, 4315, 91.0),\n",
       " ('Protected', 451, 13.0, 154, 34.0, 442, 9.0)]"
      ]
     },
     "execution_count": 33,
     "metadata": {},
     "output_type": "execute_result"
    }
   ],
   "source": [
    "%%sql\n",
    "WITH non_protected AS (SELECT COUNT(mt.name) to_be_renamed, \n",
    "                              COUNT(DISTINCT(t.track_id)) unique_tracks, \n",
    "                              COUNT(DISTINCT(il.track_id)) sold_unique,\n",
    "                              COUNT(il.track_id) sold\n",
    "                         FROM media_type mt\n",
    "                              INNER JOIN track t \n",
    "                              ON mt.media_type_id = t.media_type_id\n",
    "                       \n",
    "                              LEFT JOIN invoice_line il \n",
    "                              ON il.track_id = t.track_id                        \n",
    "                        WHERE mt.name != \"Protected AAC audio file\" \n",
    "                          AND mt.name != \"Protected MPEG-4 video file\"),\n",
    "\n",
    "     protected AS     (SELECT COUNT(mt.name) to_be_renamed, \n",
    "                              COUNT(DISTINCT(t.track_id)) unique_tracks, \n",
    "                              COUNT(DISTINCT(il.track_id)) sold_unique,\n",
    "                              COUNT(il.track_id) sold\n",
    "                         FROM media_type mt\n",
    "                              INNER JOIN track t \n",
    "                              ON mt.media_type_id = t.media_type_id\n",
    "                       \n",
    "                              LEFT JOIN invoice_line il \n",
    "                              ON il.track_id = t.track_id                        \n",
    "                        WHERE mt.name = \"Protected AAC audio file\" \n",
    "                           OR mt.name = \"Protected MPEG-4 video file\"),\n",
    "    \n",
    "     united AS        (SELECT CASE \n",
    "                              WHEN to_be_renamed != 0 THEN \"Non-protected\" \n",
    "                              END AS media_type,\n",
    "                              \n",
    "                              unique_tracks,     \n",
    "                              sold_unique,\n",
    "                              ROUND(sold_unique * 100.0 / unique_tracks, 0) pct_sold_unique,\n",
    "                              sold  \n",
    "                         FROM non_protected  \n",
    "\n",
    "                        UNION\n",
    "\n",
    "                       SELECT CASE \n",
    "                              WHEN to_be_renamed != 0 THEN \"Protected\" \n",
    "                              END AS media_type,\n",
    "                       \n",
    "                              unique_tracks,     \n",
    "                              sold_unique,\n",
    "                              ROUND(sold_unique * 100.0 / unique_tracks, 0) pct_sold_unique,\n",
    "                              sold\n",
    "                         FROM protected)\n",
    "    \n",
    "SELECT media_type,\n",
    "       unique_tracks,\n",
    "       ROUND(unique_tracks * 100.0 / (SELECT SUM(unique_tracks) \n",
    "                               FROM united), 0) pct_unique,    \n",
    "       sold_unique,\n",
    "       pct_sold_unique,\n",
    "       sold,\n",
    "       ROUND(sold * 100.0 / (SELECT SUM(sold) \n",
    "                               FROM united), 0) pct_sold\n",
    "FROM united;"
   ]
  },
  {
   "cell_type": "markdown",
   "metadata": {},
   "source": [
    "From this table, we can make the following observations:\n",
    "- Only 13\\% of all the unique tracks available in the Chinook store are of protected media types.\n",
    "- From all the unique tracks of protected media types, only 34\\% were sold, while from those of non-protected ones - 54\\%.\n",
    "- Among all the tracks that were sold, those of protected media types amounts only to 9%.\n",
    "\n",
    "In a nutshell, the **tracks of protected media types are much less popular** than those of non-protected, both in terms of the store assortment and, especially, in terms of sales. It can be easily explained by a cumbersome way of their using, which is not really justified when it comes to buying media products for entertainment. Hence, as a future strategy, it is not recommended to the store to purchase such tracks from record companies.\n",
    "## Conclusion\n",
    "In this project, we have analyzed a modified version of the Chinook database for finding the answers to our business questions. Below are the main results of this work (emphasized are the factors and suggestions for maximizing overall revenue):\n",
    "- From the 4 albums in consideration, the following 3 ones should be  selected for purchasing and advertising in the USA, based on the genre popularity rating in  this country: **Red Tone** (Punk), **Slim Jim Bites** (Blues), **Meteor and the Girls** (Pop).\n",
    "- Of the 3 sales support agents, **Jane Peacock** demonstrates the most effective sales performance, while Margaret Park - the least. The main contributing factor is the employed service; other factors are the number of clients and the employee's age.\n",
    "- Of all the countries, the **USA** represents the major part of the market, in terms of both the total sales and the number of customers.\n",
    "- Customers tend to buy **individual tracks** much more often than the whole albums. Hence, it's recommended to the Chinook store to purchase only the most popular tracks from each album from record companies. \n",
    "- The tracks of the artists present in the most playlists are all of Classical genre, which is not popular among customers. Purchasing them cannot be considered as a potentially profitable startegy for the Chinook store. \n",
    "- Almost half of all the unique tracks of the Chinook store were never bought. Possible solutions here may include a new **advertising campaign**, **sales promotion**, additional **training and motivation** of sales support agents.\n",
    "- The tracks of protected media types are much less popular than those of **non-protected**, both in terms of the store assortment and, especially, in terms of sales. Hence the store should avoid purchasing such tracks."
   ]
  }
 ],
 "metadata": {
  "kernelspec": {
   "display_name": "Python 3 (ipykernel)",
   "language": "python",
   "name": "python3"
  },
  "language_info": {
   "codemirror_mode": {
    "name": "ipython",
    "version": 3
   },
   "file_extension": ".py",
   "mimetype": "text/x-python",
   "name": "python",
   "nbconvert_exporter": "python",
   "pygments_lexer": "ipython3",
   "version": "3.8.11"
  }
 },
 "nbformat": 4,
 "nbformat_minor": 2
}
